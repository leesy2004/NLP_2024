{
  "nbformat": 4,
  "nbformat_minor": 0,
  "metadata": {
    "colab": {
      "provenance": [],
      "include_colab_link": true
    },
    "kernelspec": {
      "name": "python3",
      "display_name": "Python 3"
    },
    "language_info": {
      "name": "python"
    }
  },
  "cells": [
    {
      "cell_type": "markdown",
      "metadata": {
        "id": "view-in-github",
        "colab_type": "text"
      },
      "source": [
        "<a href=\"https://colab.research.google.com/github/leesy2004/NLP_2024/blob/main/4_3_tryExceptElse_Statement.ipynb\" target=\"_parent\"><img src=\"https://colab.research.google.com/assets/colab-badge.svg\" alt=\"Open In Colab\"/></a>"
      ]
    },
    {
      "cell_type": "markdown",
      "source": [
        "## 🔨 try ~ except ~ else/finally\n",
        "---\n",
        "\n",
        "1️⃣ 프로그램을 작성 후 실행되는 동안 오류가 발생하면 프로그램은 더 이상 진행되지 않는다. 이 상황을 예외 (exeption) 상황이라고 한다.\n",
        "\n",
        "2️⃣ try: ~ except:\n",
        "  - Exeption 이 있더라도 프로그램 중단 없이 예외에 대하여 적절히 처리하여 프로그램을 진행시킬 수 있도록 하는 구문\n",
        "\n",
        "3️⃣ try: ~ except: ~ else:\n",
        "  - 어떤 로직을 수행했을 때 오류 상황이 아닌 경우에만 어떤 작업을 수행하는 코드를 작성해야 할 때\n",
        "  - 예외 Exception이 발행하면 else 부분은 수행되지 않음\n",
        "\n",
        "4️⃣ try: ~ except: ~ finally:\n",
        "  - 오류 발생과 상관없이 어떤 코드를 무조건 실행 시킬 때\n"
      ],
      "metadata": {
        "id": "3V3eF3-rqKDl"
      }
    },
    {
      "cell_type": "code",
      "execution_count": null,
      "metadata": {
        "colab": {
          "base_uri": "https://localhost:8080/"
        },
        "id": "XKm8hYRNqJE2",
        "outputId": "76fc2f84-6ffb-402b-8743-f74b1bec69ab"
      },
      "outputs": [
        {
          "output_type": "stream",
          "name": "stdout",
          "text": [
            "How are you?\n",
            "Exception occurred\n"
          ]
        }
      ],
      "source": [
        "# 위 2️⃣ 의 예시 (try: ~ except)\n",
        "\n",
        "try:\n",
        "  print ('How are you?')\n",
        "  print (param) #param 변수가 정의되지 않았으므로 NameError 예외가 발생. 예외가 발생하면 프로그램은 try 블록을 빠져나와 except 블록으로 이동.\n",
        "\n",
        "except:\n",
        "  print ('Exception occurred') #except 블록에서는 \"Exception occurred\"라는 메시지가 출력된다."
      ]
    },
    {
      "cell_type": "code",
      "source": [
        "#10/07 아래 코딩과 비교\n",
        "\n",
        "print(\"How are you?\")\n",
        "print(param)           #안 돌아감 / 에러뜸  * 아래 코딩과 비교!!!!"
      ],
      "metadata": {
        "id": "I7akquMG0iax",
        "outputId": "49a3cf23-cc5b-4321-96a9-19b50ae294dc",
        "colab": {
          "base_uri": "https://localhost:8080/",
          "height": 202
        }
      },
      "execution_count": null,
      "outputs": [
        {
          "output_type": "stream",
          "name": "stdout",
          "text": [
            "How are you?\n"
          ]
        },
        {
          "output_type": "error",
          "ename": "NameError",
          "evalue": "name 'param' is not defined",
          "traceback": [
            "\u001b[0;31m---------------------------------------------------------------------------\u001b[0m",
            "\u001b[0;31mNameError\u001b[0m                                 Traceback (most recent call last)",
            "\u001b[0;32m<ipython-input-11-4fb76c5447bd>\u001b[0m in \u001b[0;36m<cell line: 4>\u001b[0;34m()\u001b[0m\n\u001b[1;32m      2\u001b[0m \u001b[0;34m\u001b[0m\u001b[0m\n\u001b[1;32m      3\u001b[0m \u001b[0mprint\u001b[0m\u001b[0;34m(\u001b[0m\u001b[0;34m\"How are you?\"\u001b[0m\u001b[0;34m)\u001b[0m\u001b[0;34m\u001b[0m\u001b[0;34m\u001b[0m\u001b[0m\n\u001b[0;32m----> 4\u001b[0;31m \u001b[0mprint\u001b[0m\u001b[0;34m(\u001b[0m\u001b[0mparam\u001b[0m\u001b[0;34m)\u001b[0m\u001b[0;34m\u001b[0m\u001b[0;34m\u001b[0m\u001b[0m\n\u001b[0m",
            "\u001b[0;31mNameError\u001b[0m: name 'param' is not defined"
          ]
        }
      ]
    },
    {
      "cell_type": "code",
      "source": [
        "#10/07\n",
        "\n",
        "try:\n",
        "  print('How are you?')\n",
        "  print(param)          #돌아감\n",
        "\n",
        "except:\n",
        "  print('Exception occured')"
      ],
      "metadata": {
        "id": "yFkn0uF3zfy5",
        "outputId": "d3fee696-2ce9-4184-e16f-194f00b90831",
        "colab": {
          "base_uri": "https://localhost:8080/"
        }
      },
      "execution_count": null,
      "outputs": [
        {
          "output_type": "stream",
          "name": "stdout",
          "text": [
            "How are you?\n",
            "Exception occured\n"
          ]
        }
      ]
    },
    {
      "cell_type": "code",
      "source": [
        "#10/07\n",
        "\n",
        "try:\n",
        "  print('How are you?')\n",
        "  #print(param)          #exception 발생 안함\n",
        "\n",
        "except:\n",
        "  print('Exception occured')"
      ],
      "metadata": {
        "id": "dWFWS4CU18gg",
        "outputId": "ec962373-f458-4142-ba7a-4cb12e1f7c43",
        "colab": {
          "base_uri": "https://localhost:8080/"
        }
      },
      "execution_count": null,
      "outputs": [
        {
          "output_type": "stream",
          "name": "stdout",
          "text": [
            "How are you?\n"
          ]
        }
      ]
    },
    {
      "cell_type": "code",
      "source": [
        "# 위 2️⃣ 의 예시 (try: ~ except)\n",
        "\n",
        "try:\n",
        "  print ('How are you?')\n",
        "  # print (param) #해당 코드라인 비활성화시켜 param 변수 사용하여 출력 시도 안함.\n",
        "  #💊param 변수가 정의되지 않은 것이 없으면 NameError 예외가 발생 안함. 예외가 발생하지 않았음으로 프로그램은 try 블록을 빠져나오지 않고, except 블록으로 이동할 필요도 없음.\n",
        "\n",
        "except:\n",
        "  print ('Exception occurred') #except 블록에서는 \"Exception occurred\"라는 메시지가 출력된다."
      ],
      "metadata": {
        "id": "KNr3PPDkPVtK",
        "outputId": "a11b08af-08b8-4007-d539-d9cc13fdcdad",
        "colab": {
          "base_uri": "https://localhost:8080/"
        }
      },
      "execution_count": null,
      "outputs": [
        {
          "output_type": "stream",
          "name": "stdout",
          "text": [
            "How are you?\n"
          ]
        }
      ]
    },
    {
      "cell_type": "code",
      "source": [
        "# 위 3️⃣  (try: ~ exception: ~ else: 에서 else 부분이 실행되지 않은 예시 )\n",
        "\n",
        "try:\n",
        "  print ('How are you?')\n",
        "  print (param) #param 변수를 사용하려고 시도. param 변수가 정의되지 않았으므로 NameError 예외가 발생합니다.\n",
        "\n",
        "#예외가 발생할 경우\n",
        "except:\n",
        "  print ('Exception occurred.') #예외가 발생하면 프로그램은 try 블록을 빠져나와 except 블록으로 이동. except 블록에서는 \"Exception occurred.\"라는 메시지가 출력.\n",
        "\n",
        "#예외가 발생하지 않았을 경우에만 실행됨. 이 경우 else 블록은 실행되지 않는다.\n",
        "else:\n",
        "  print ('Exception did not occur.')"
      ],
      "metadata": {
        "colab": {
          "base_uri": "https://localhost:8080/"
        },
        "id": "yI5O0MpmuDHE",
        "outputId": "863e4909-5f72-4a2c-bda7-d61ce66b13c8"
      },
      "execution_count": null,
      "outputs": [
        {
          "output_type": "stream",
          "name": "stdout",
          "text": [
            "How are you?\n",
            "Exception occurred.\n"
          ]
        }
      ]
    },
    {
      "cell_type": "code",
      "source": [
        "#10/07\n",
        "\n",
        "try:\n",
        "  print('Good morning')\n",
        "  print(morning)\n",
        "\n",
        "except:\n",
        "  print(\"Exception occured.\")\n",
        "\n",
        "else:\n",
        "  print('Exception did not occur.')"
      ],
      "metadata": {
        "id": "IZxRjiMC2nkH",
        "outputId": "c47f68ab-6218-43b2-efcb-e26ff5941adf",
        "colab": {
          "base_uri": "https://localhost:8080/"
        }
      },
      "execution_count": null,
      "outputs": [
        {
          "output_type": "stream",
          "name": "stdout",
          "text": [
            "Good morning\n",
            "Exception occured.\n"
          ]
        }
      ]
    },
    {
      "cell_type": "code",
      "source": [
        "#10/07 위 코드와 비교하기\n",
        "\n",
        "try:\n",
        "  print('Good morning')\n",
        "  #print(morning)\n",
        "\n",
        "except:\n",
        "  print(\"Exception occured.\")\n",
        "\n",
        "else:\n",
        "  print('Exception did not occur.')"
      ],
      "metadata": {
        "id": "KZ-jkPja3Cc4",
        "outputId": "4c276aea-c2f2-4b17-ed1f-74c204a64ede",
        "colab": {
          "base_uri": "https://localhost:8080/"
        }
      },
      "execution_count": 1,
      "outputs": [
        {
          "output_type": "stream",
          "name": "stdout",
          "text": [
            "Good morning\n",
            "Exception did not occur.\n"
          ]
        }
      ]
    },
    {
      "cell_type": "code",
      "source": [
        "#10/12\n",
        "\n",
        "param = 'Good afternoon'\n",
        "try:\n",
        "  print('Good morning')\n",
        "  print(param)\n",
        "\n",
        "except:\n",
        "  print('Exception occured.')\n",
        "\n",
        "else:\n",
        "  print('Exception did not occur.')"
      ],
      "metadata": {
        "id": "9j2nXUMNpd_W",
        "outputId": "edd363bc-5040-4064-82fd-50c247eef9f8",
        "colab": {
          "base_uri": "https://localhost:8080/"
        }
      },
      "execution_count": 2,
      "outputs": [
        {
          "output_type": "stream",
          "name": "stdout",
          "text": [
            "Good morning\n",
            "Good afternoon\n",
            "Exception did not occur.\n"
          ]
        }
      ]
    },
    {
      "cell_type": "code",
      "source": [
        "# 위 3️⃣  (try: ~ exception: ~ else: 에서 except 부분이 실행되지 않은 예시 )\n",
        "\n",
        "try:\n",
        "  print ('How are you?')\n",
        "# print (param) #해당 코드라인 비활성화시켜 param 변수 사용하여 출력 시도 안함.\n",
        "\n",
        "#예외가 발생할 경우\n",
        "except:\n",
        "  print ('Exception occurred.')\n",
        "\n",
        "#예외가 발생하지 않았을 경우에만 실행됨\n",
        "else:\n",
        "  print ('Exception did not occur.')"
      ],
      "metadata": {
        "colab": {
          "base_uri": "https://localhost:8080/"
        },
        "id": "y46HtrZSu_s2",
        "outputId": "c41091d1-bf24-40b0-eda2-e23d45e2d31e"
      },
      "execution_count": null,
      "outputs": [
        {
          "output_type": "stream",
          "name": "stdout",
          "text": [
            "How are you?\n",
            "Exception did not occur.\n"
          ]
        }
      ]
    },
    {
      "cell_type": "code",
      "source": [
        "#10/08\n",
        "\n",
        "try:\n",
        "  print('linton global school')\n",
        "  print(hi)\n",
        "\n",
        "except:\n",
        "  print('예외 발생')\n",
        "\n",
        "else:\n",
        "  print('예외 발생 안함')"
      ],
      "metadata": {
        "id": "kyORPb_nQ-iX",
        "outputId": "580f6328-eedc-4af0-c407-68e61f4edfb4",
        "colab": {
          "base_uri": "https://localhost:8080/"
        }
      },
      "execution_count": null,
      "outputs": [
        {
          "output_type": "stream",
          "name": "stdout",
          "text": [
            "linton global school\n",
            "예외 발생\n"
          ]
        }
      ]
    },
    {
      "cell_type": "code",
      "source": [
        "# 위 4️⃣  (try: ~ exception: ~ finally: exeption 예외 발생의 유무에 상관없이 무조건 실행되는 finally 부분 )\n",
        "\n",
        "try:\n",
        "  print ('How are you?')\n",
        "  print (param)\n",
        "\n",
        "except:\n",
        "  print ('Exception occurred.')\n",
        "\n",
        "finally:\n",
        "  print ('This code should be running.')"
      ],
      "metadata": {
        "colab": {
          "base_uri": "https://localhost:8080/"
        },
        "id": "k8-JM-FevYkh",
        "outputId": "44eff2cb-d0fe-444a-a22c-b614bc446a03"
      },
      "execution_count": null,
      "outputs": [
        {
          "output_type": "stream",
          "name": "stdout",
          "text": [
            "How are you?\n",
            "Exception occurred.\n",
            "This code should be running.\n"
          ]
        }
      ]
    },
    {
      "cell_type": "code",
      "source": [
        "# 위 4️⃣  (try: ~ exception: ~ finally: exeption 예외 발생의 유무에 상관없이 무조건 실행되는 finally 부분 )\n",
        "\n",
        "try:\n",
        "  print ('How are you?')\n",
        "# print (param)\n",
        "\n",
        "except:\n",
        "  print ('Exception occurred.')\n",
        "\n",
        "finally:\n",
        "  print ('This code should be running.')"
      ],
      "metadata": {
        "id": "UjK2z3ctQd3G",
        "outputId": "5cddb16c-bd86-49ac-fede-7bf6775ab1a1",
        "colab": {
          "base_uri": "https://localhost:8080/"
        }
      },
      "execution_count": null,
      "outputs": [
        {
          "output_type": "stream",
          "name": "stdout",
          "text": [
            "How are you?\n",
            "This code should be running.\n"
          ]
        }
      ]
    }
  ]
}